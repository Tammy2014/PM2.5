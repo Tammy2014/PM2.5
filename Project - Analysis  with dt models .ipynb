{
 "cells": [
  {
   "cell_type": "code",
   "execution_count": 121,
   "id": "a7e93934",
   "metadata": {},
   "outputs": [],
   "source": [
    "import pandas as pd\n",
    "from pandas import *\n",
    "import numpy as np\n",
    "import seaborn as sns\n",
    "%matplotlib inline \n",
    "from sklearn.model_selection import train_test_split \n",
    "from sklearn.linear_model import LinearRegression\n",
    "import matplotlib.pyplot as plt"
   ]
  },
  {
   "cell_type": "code",
   "execution_count": 122,
   "id": "5ca26b9b",
   "metadata": {},
   "outputs": [],
   "source": [
    "# turn off a warning that makes processing quicker\n",
    "import warnings\n",
    "from sklearn.exceptions import DataConversionWarning\n",
    "warnings.filterwarnings(action='ignore', category=DataConversionWarning)"
   ]
  },
  {
   "cell_type": "code",
   "execution_count": 123,
   "id": "fb597af8",
   "metadata": {},
   "outputs": [
    {
     "data": {
      "text/html": [
       "<div>\n",
       "<style scoped>\n",
       "    .dataframe tbody tr th:only-of-type {\n",
       "        vertical-align: middle;\n",
       "    }\n",
       "\n",
       "    .dataframe tbody tr th {\n",
       "        vertical-align: top;\n",
       "    }\n",
       "\n",
       "    .dataframe thead th {\n",
       "        text-align: right;\n",
       "    }\n",
       "</style>\n",
       "<table border=\"1\" class=\"dataframe\">\n",
       "  <thead>\n",
       "    <tr style=\"text-align: right;\">\n",
       "      <th></th>\n",
       "      <th>Ozone_ Contn</th>\n",
       "      <th>NO2_Contn</th>\n",
       "      <th>Temp_ Avg</th>\n",
       "      <th>SO2 _Contn</th>\n",
       "      <th>PM2.5_Contn</th>\n",
       "      <th>deathIncrease</th>\n",
       "    </tr>\n",
       "  </thead>\n",
       "  <tbody>\n",
       "    <tr>\n",
       "      <th>0</th>\n",
       "      <td>0.014</td>\n",
       "      <td>34.0</td>\n",
       "      <td>36</td>\n",
       "      <td>17.0</td>\n",
       "      <td>25.0</td>\n",
       "      <td>39.0</td>\n",
       "    </tr>\n",
       "    <tr>\n",
       "      <th>1</th>\n",
       "      <td>0.025</td>\n",
       "      <td>41.0</td>\n",
       "      <td>80</td>\n",
       "      <td>14.0</td>\n",
       "      <td>13.0</td>\n",
       "      <td>26.0</td>\n",
       "    </tr>\n",
       "    <tr>\n",
       "      <th>2</th>\n",
       "      <td>0.049</td>\n",
       "      <td>14.0</td>\n",
       "      <td>64</td>\n",
       "      <td>19.0</td>\n",
       "      <td>24.0</td>\n",
       "      <td>35.0</td>\n",
       "    </tr>\n",
       "    <tr>\n",
       "      <th>3</th>\n",
       "      <td>0.042</td>\n",
       "      <td>14.0</td>\n",
       "      <td>80</td>\n",
       "      <td>18.0</td>\n",
       "      <td>21.0</td>\n",
       "      <td>26.0</td>\n",
       "    </tr>\n",
       "    <tr>\n",
       "      <th>4</th>\n",
       "      <td>0.027</td>\n",
       "      <td>23.0</td>\n",
       "      <td>76</td>\n",
       "      <td>34.0</td>\n",
       "      <td>37.0</td>\n",
       "      <td>31.0</td>\n",
       "    </tr>\n",
       "    <tr>\n",
       "      <th>...</th>\n",
       "      <td>...</td>\n",
       "      <td>...</td>\n",
       "      <td>...</td>\n",
       "      <td>...</td>\n",
       "      <td>...</td>\n",
       "      <td>...</td>\n",
       "    </tr>\n",
       "    <tr>\n",
       "      <th>382</th>\n",
       "      <td>0.023</td>\n",
       "      <td>31.2</td>\n",
       "      <td>41</td>\n",
       "      <td>31.2</td>\n",
       "      <td>14.6</td>\n",
       "      <td>24.0</td>\n",
       "    </tr>\n",
       "    <tr>\n",
       "      <th>383</th>\n",
       "      <td>0.019</td>\n",
       "      <td>34.4</td>\n",
       "      <td>48</td>\n",
       "      <td>34.4</td>\n",
       "      <td>14.5</td>\n",
       "      <td>24.0</td>\n",
       "    </tr>\n",
       "    <tr>\n",
       "      <th>384</th>\n",
       "      <td>0.037</td>\n",
       "      <td>54.0</td>\n",
       "      <td>76</td>\n",
       "      <td>54.0</td>\n",
       "      <td>47.0</td>\n",
       "      <td>62.0</td>\n",
       "    </tr>\n",
       "    <tr>\n",
       "      <th>385</th>\n",
       "      <td>0.015</td>\n",
       "      <td>23.0</td>\n",
       "      <td>37</td>\n",
       "      <td>23.0</td>\n",
       "      <td>16.9</td>\n",
       "      <td>29.0</td>\n",
       "    </tr>\n",
       "    <tr>\n",
       "      <th>386</th>\n",
       "      <td>0.010</td>\n",
       "      <td>24.0</td>\n",
       "      <td>44</td>\n",
       "      <td>24.0</td>\n",
       "      <td>17.2</td>\n",
       "      <td>28.0</td>\n",
       "    </tr>\n",
       "  </tbody>\n",
       "</table>\n",
       "<p>387 rows × 6 columns</p>\n",
       "</div>"
      ],
      "text/plain": [
       "      Ozone_ Contn   NO2_Contn  Temp_ Avg   SO2 _Contn   PM2.5_Contn  \\\n",
       "0            0.014        34.0          36        17.0          25.0   \n",
       "1            0.025        41.0          80        14.0          13.0   \n",
       "2            0.049        14.0          64        19.0          24.0   \n",
       "3            0.042        14.0          80        18.0          21.0   \n",
       "4            0.027        23.0          76        34.0          37.0   \n",
       "..             ...         ...         ...         ...           ...   \n",
       "382          0.023        31.2          41        31.2          14.6   \n",
       "383          0.019        34.4          48        34.4          14.5   \n",
       "384          0.037        54.0          76        54.0          47.0   \n",
       "385          0.015        23.0          37        23.0          16.9   \n",
       "386          0.010        24.0          44        24.0          17.2   \n",
       "\n",
       "     deathIncrease  \n",
       "0             39.0  \n",
       "1             26.0  \n",
       "2             35.0  \n",
       "3             26.0  \n",
       "4             31.0  \n",
       "..             ...  \n",
       "382           24.0  \n",
       "383           24.0  \n",
       "384           62.0  \n",
       "385           29.0  \n",
       "386           28.0  \n",
       "\n",
       "[387 rows x 6 columns]"
      ]
     },
     "execution_count": 123,
     "metadata": {},
     "output_type": "execute_result"
    }
   ],
   "source": [
    "data =pd.read_csv('DMV10042.csv')\n",
    "data"
   ]
  },
  {
   "cell_type": "code",
   "execution_count": 124,
   "id": "e3911f31",
   "metadata": {},
   "outputs": [
    {
     "data": {
      "text/plain": [
       "Index([' Ozone_ Contn', ' NO2_Contn', 'Temp_ Avg ', 'SO2 _Contn',\n",
       "       ' PM2.5_Contn', 'deathIncrease'],\n",
       "      dtype='object')"
      ]
     },
     "execution_count": 124,
     "metadata": {},
     "output_type": "execute_result"
    }
   ],
   "source": [
    "data.columns"
   ]
  },
  {
   "cell_type": "code",
   "execution_count": 125,
   "id": "5b96b9a0",
   "metadata": {},
   "outputs": [
    {
     "data": {
      "image/png": "[encoded data removed]",
      "text/plain": [
       "<Figure size 1008x864 with 2 Axes>"
      ]
     },
     "metadata": {
      "needs_background": "light"
     },
     "output_type": "display_data"
    }
   ],
   "source": [
    "corrMatrix=data[[' Ozone_ Contn', ' NO2_Contn', 'Temp_ Avg ', 'SO2 _Contn',' PM2.5_Contn', 'deathIncrease']].corr()\n",
    "plt.rcParams[\"figure.figsize\"] = (14,12)\n",
    "sns.heatmap(corrMatrix, annot=True, cmap=\"YlGnBu\", linewidths=.5)\n",
    "plt.show()"
   ]
  },
  {
   "cell_type": "code",
   "execution_count": 126,
   "id": "119c36ce",
   "metadata": {},
   "outputs": [
    {
     "data": {
      "text/plain": [
       "array([[<AxesSubplot:title={'center':' Ozone_ Contn'}>,\n",
       "        <AxesSubplot:title={'center':' NO2_Contn'}>],\n",
       "       [<AxesSubplot:title={'center':'Temp_ Avg '}>,\n",
       "        <AxesSubplot:title={'center':'SO2 _Contn'}>],\n",
       "       [<AxesSubplot:title={'center':' PM2.5_Contn'}>,\n",
       "        <AxesSubplot:title={'center':'deathIncrease'}>]], dtype=object)"
      ]
     },
     "execution_count": 126,
     "metadata": {},
     "output_type": "execute_result"
    },
    {
     "data": {
      "image/png": "[encoded data removed]",
      "text/plain": [
       "<Figure size 1728x1584 with 6 Axes>"
      ]
     },
     "metadata": {
      "needs_background": "light"
     },
     "output_type": "display_data"
    }
   ],
   "source": [
    "# view distributions of variables\n",
    "plt.rcParams[\"figure.figsize\"] = (24,22)\n",
    "data.hist()"
   ]
  },
  {
   "cell_type": "code",
   "execution_count": 127,
   "id": "7d8b1e38",
   "metadata": {},
   "outputs": [],
   "source": [
    "from sklearn.model_selection import train_test_split\n",
    "\n",
    "X = data.loc[:, data.columns != 'deathIncrease']\n",
    "y = data.loc[:, data.columns == 'deathIncrease']\n",
    "\n",
    "X_train, X_test, y_train, y_test = train_test_split(X,y,test_size=0.25,random_state=20)"
   ]
  },
  {
   "cell_type": "code",
   "execution_count": 128,
   "id": "aff14a56",
   "metadata": {},
   "outputs": [
    {
     "name": "stderr",
     "output_type": "stream",
     "text": [
      "C:\\Users\\Tamrat\\AppData\\Local\\Temp/ipykernel_30916/2741738047.py:3: SettingWithCopyWarning: \n",
      "A value is trying to be set on a copy of a slice from a DataFrame.\n",
      "Try using .loc[row_indexer,col_indexer] = value instead\n",
      "\n",
      "See the caveats in the documentation: https://pandas.pydata.org/pandas-docs/stable/user_guide/indexing.html#returning-a-view-versus-a-copy\n",
      "  X_train['intercept'] =1\n"
     ]
    },
    {
     "data": {
      "text/html": [
       "<table class=\"simpletable\">\n",
       "<caption>OLS Regression Results</caption>\n",
       "<tr>\n",
       "  <th>Dep. Variable:</th>      <td>deathIncrease</td>  <th>  R-squared:         </th> <td>   0.379</td>\n",
       "</tr>\n",
       "<tr>\n",
       "  <th>Model:</th>                   <td>OLS</td>       <th>  Adj. R-squared:    </th> <td>   0.368</td>\n",
       "</tr>\n",
       "<tr>\n",
       "  <th>Method:</th>             <td>Least Squares</td>  <th>  F-statistic:       </th> <td>   34.66</td>\n",
       "</tr>\n",
       "<tr>\n",
       "  <th>Date:</th>             <td>Wed, 24 Nov 2021</td> <th>  Prob (F-statistic):</th> <td>1.28e-27</td>\n",
       "</tr>\n",
       "<tr>\n",
       "  <th>Time:</th>                 <td>14:16:25</td>     <th>  Log-Likelihood:    </th> <td> -1101.3</td>\n",
       "</tr>\n",
       "<tr>\n",
       "  <th>No. Observations:</th>      <td>   290</td>      <th>  AIC:               </th> <td>   2215.</td>\n",
       "</tr>\n",
       "<tr>\n",
       "  <th>Df Residuals:</th>          <td>   284</td>      <th>  BIC:               </th> <td>   2237.</td>\n",
       "</tr>\n",
       "<tr>\n",
       "  <th>Df Model:</th>              <td>     5</td>      <th>                     </th>     <td> </td>   \n",
       "</tr>\n",
       "<tr>\n",
       "  <th>Covariance Type:</th>      <td>nonrobust</td>    <th>                     </th>     <td> </td>   \n",
       "</tr>\n",
       "</table>\n",
       "<table class=\"simpletable\">\n",
       "<tr>\n",
       "        <td></td>           <th>coef</th>     <th>std err</th>      <th>t</th>      <th>P>|t|</th>  <th>[0.025</th>    <th>0.975]</th>  \n",
       "</tr>\n",
       "<tr>\n",
       "  <th> Ozone_ Contn</th> <td>   81.1060</td> <td>   70.544</td> <td>    1.150</td> <td> 0.251</td> <td>  -57.749</td> <td>  219.961</td>\n",
       "</tr>\n",
       "<tr>\n",
       "  <th> NO2_Contn</th>    <td>   -0.1346</td> <td>    0.210</td> <td>   -0.641</td> <td> 0.522</td> <td>   -0.548</td> <td>    0.279</td>\n",
       "</tr>\n",
       "<tr>\n",
       "  <th>Temp_ Avg </th>    <td>    0.0525</td> <td>    0.042</td> <td>    1.259</td> <td> 0.209</td> <td>   -0.030</td> <td>    0.135</td>\n",
       "</tr>\n",
       "<tr>\n",
       "  <th>SO2 _Contn</th>    <td>    0.2089</td> <td>    0.220</td> <td>    0.952</td> <td> 0.342</td> <td>   -0.223</td> <td>    0.641</td>\n",
       "</tr>\n",
       "<tr>\n",
       "  <th> PM2.5_Contn</th>  <td>    0.7481</td> <td>    0.083</td> <td>    9.053</td> <td> 0.000</td> <td>    0.585</td> <td>    0.911</td>\n",
       "</tr>\n",
       "<tr>\n",
       "  <th>intercept</th>     <td>   10.1925</td> <td>    3.284</td> <td>    3.104</td> <td> 0.002</td> <td>    3.729</td> <td>   16.656</td>\n",
       "</tr>\n",
       "</table>\n",
       "<table class=\"simpletable\">\n",
       "<tr>\n",
       "  <th>Omnibus:</th>       <td>57.870</td> <th>  Durbin-Watson:     </th> <td>   2.018</td>\n",
       "</tr>\n",
       "<tr>\n",
       "  <th>Prob(Omnibus):</th> <td> 0.000</td> <th>  Jarque-Bera (JB):  </th> <td> 148.271</td>\n",
       "</tr>\n",
       "<tr>\n",
       "  <th>Skew:</th>          <td>-0.925</td> <th>  Prob(JB):          </th> <td>6.36e-33</td>\n",
       "</tr>\n",
       "<tr>\n",
       "  <th>Kurtosis:</th>      <td> 5.975</td> <th>  Cond. No.          </th> <td>7.79e+03</td>\n",
       "</tr>\n",
       "</table><br/><br/>Notes:<br/>[1] Standard Errors assume that the covariance matrix of the errors is correctly specified.<br/>[2] The condition number is large, 7.79e+03. This might indicate that there are<br/>strong multicollinearity or other numerical problems."
      ],
      "text/plain": [
       "<class 'statsmodels.iolib.summary.Summary'>\n",
       "\"\"\"\n",
       "                            OLS Regression Results                            \n",
       "==============================================================================\n",
       "Dep. Variable:          deathIncrease   R-squared:                       0.379\n",
       "Model:                            OLS   Adj. R-squared:                  0.368\n",
       "Method:                 Least Squares   F-statistic:                     34.66\n",
       "Date:                Wed, 24 Nov 2021   Prob (F-statistic):           1.28e-27\n",
       "Time:                        14:16:25   Log-Likelihood:                -1101.3\n",
       "No. Observations:                 290   AIC:                             2215.\n",
       "Df Residuals:                     284   BIC:                             2237.\n",
       "Df Model:                           5                                         \n",
       "Covariance Type:            nonrobust                                         \n",
       "=================================================================================\n",
       "                    coef    std err          t      P>|t|      [0.025      0.975]\n",
       "---------------------------------------------------------------------------------\n",
       " Ozone_ Contn    81.1060     70.544      1.150      0.251     -57.749     219.961\n",
       " NO2_Contn       -0.1346      0.210     -0.641      0.522      -0.548       0.279\n",
       "Temp_ Avg         0.0525      0.042      1.259      0.209      -0.030       0.135\n",
       "SO2 _Contn        0.2089      0.220      0.952      0.342      -0.223       0.641\n",
       " PM2.5_Contn      0.7481      0.083      9.053      0.000       0.585       0.911\n",
       "intercept        10.1925      3.284      3.104      0.002       3.729      16.656\n",
       "==============================================================================\n",
       "Omnibus:                       57.870   Durbin-Watson:                   2.018\n",
       "Prob(Omnibus):                  0.000   Jarque-Bera (JB):              148.271\n",
       "Skew:                          -0.925   Prob(JB):                     6.36e-33\n",
       "Kurtosis:                       5.975   Cond. No.                     7.79e+03\n",
       "==============================================================================\n",
       "\n",
       "Notes:\n",
       "[1] Standard Errors assume that the covariance matrix of the errors is correctly specified.\n",
       "[2] The condition number is large, 7.79e+03. This might indicate that there are\n",
       "strong multicollinearity or other numerical problems.\n",
       "\"\"\""
      ]
     },
     "execution_count": 128,
     "metadata": {},
     "output_type": "execute_result"
    }
   ],
   "source": [
    "import statsmodels.api as sm\n",
    "\n",
    "X_train['intercept'] =1\n",
    "lm = sm.OLS(y_train,X_train)\n",
    "lr_results = lm.fit()\n",
    "lr_results.summary() "
   ]
  },
  {
   "cell_type": "code",
   "execution_count": 129,
   "id": "931814cc",
   "metadata": {},
   "outputs": [
    {
     "name": "stderr",
     "output_type": "stream",
     "text": [
      "C:\\Users\\Tamrat\\Anaconda3\\lib\\site-packages\\pandas\\core\\frame.py:4906: SettingWithCopyWarning: \n",
      "A value is trying to be set on a copy of a slice from a DataFrame\n",
      "\n",
      "See the caveats in the documentation: https://pandas.pydata.org/pandas-docs/stable/user_guide/indexing.html#returning-a-view-versus-a-copy\n",
      "  return super().drop(\n"
     ]
    }
   ],
   "source": [
    "X_train.drop(columns='intercept',inplace=True)"
   ]
  },
  {
   "cell_type": "code",
   "execution_count": 130,
   "id": "4ec35952",
   "metadata": {},
   "outputs": [],
   "source": [
    "from sklearn.linear_model import LinearRegression\n",
    "\n",
    "Reg = LinearRegression(fit_intercept=True)"
   ]
  },
  {
   "cell_type": "code",
   "execution_count": 131,
   "id": "9348d556",
   "metadata": {},
   "outputs": [
    {
     "data": {
      "text/plain": [
       "LinearRegression()"
      ]
     },
     "execution_count": 131,
     "metadata": {},
     "output_type": "execute_result"
    }
   ],
   "source": [
    "Reg.fit(X_train,y_train)"
   ]
  },
  {
   "cell_type": "code",
   "execution_count": 132,
   "id": "e7b7bb99",
   "metadata": {},
   "outputs": [],
   "source": [
    "pred = Reg.predict(X_test)"
   ]
  },
  {
   "cell_type": "code",
   "execution_count": 133,
   "id": "ea0d328d",
   "metadata": {},
   "outputs": [],
   "source": [
    "# calculate an accuracy metric and an error metric\n",
    "from sklearn.metrics import mean_squared_error\n",
    "\n",
    "test_set_rsq = Reg.score(X_test,y_test)\n",
    "test_set_rmse = (np.sqrt(mean_squared_error(y_test,pred)))"
   ]
  },
  {
   "cell_type": "code",
   "execution_count": 134,
   "id": "fdf1221a",
   "metadata": {},
   "outputs": [
    {
     "name": "stdout",
     "output_type": "stream",
     "text": [
      "Test Set RSQ value with Linear Regression: 0.21282554299283052\n",
      "Test Set RMSE with Linear Regression: 11.622792698177859\n",
      "Actual Dep Var Standard Dev: 13.168164580504147\n"
     ]
    }
   ],
   "source": [
    "print('Test Set RSQ value with Linear Regression:',test_set_rsq)\n",
    "print('Test Set RMSE with Linear Regression:',test_set_rmse)\n",
    "print('Actual Dep Var Standard Dev:',y_test['deathIncrease'].std())"
   ]
  },
  {
   "cell_type": "code",
   "execution_count": 135,
   "id": "2a23aa3c",
   "metadata": {},
   "outputs": [
    {
     "data": {
      "text/plain": [
       "<AxesSubplot:xlabel='deathIncrease'>"
      ]
     },
     "execution_count": 135,
     "metadata": {},
     "output_type": "execute_result"
    },
    {
     "data": {
      "image/png": "[encoded data removed]",
      "text/plain": [
       "<Figure size 864x432 with 1 Axes>"
      ]
     },
     "metadata": {
      "needs_background": "light"
     },
     "output_type": "display_data"
    }
   ],
   "source": [
    "# how well do our predictions look against the actual values?\n",
    "plt.rcParams[\"figure.figsize\"] = (12,6)\n",
    "sns.regplot(x=y_test['deathIncrease'],y=pred)"
   ]
  },
  {
   "cell_type": "code",
   "execution_count": 136,
   "id": "ee65ff54",
   "metadata": {},
   "outputs": [],
   "source": [
    "# residual plot - how randomly dispersed are our errors?\n",
    "# xmin = 250; xmax = 550\n",
    "# x_plot = plt.scatter(pred, (pred - y_test['deathIncrease']), c='b')\n",
    "# plt.hlines(y=0, xmin=xmin, xmax=xmax)\n",
    "# plt.title('Residual plot')"
   ]
  },
  {
   "cell_type": "code",
   "execution_count": 137,
   "id": "2a57ed21",
   "metadata": {},
   "outputs": [],
   "source": [
    "# coefficient plot\n",
    "# predictors = X.columns\n",
    "# coef = pd.Series(Reg.coef_[0],predictors).sort_values()\n",
    "# coef.plot(kind='bar', title='Modal Coefficients')"
   ]
  },
  {
   "cell_type": "markdown",
   "id": "c2ea1b67",
   "metadata": {},
   "source": [
    "#### Ridge\n",
    "\n",
    "Section Goals\n",
    "Find optimal alpha value using 5-fold cross-validation\n",
    "\n"
   ]
  },
  {
   "cell_type": "code",
   "execution_count": 138,
   "id": "cfd373a6",
   "metadata": {},
   "outputs": [
    {
     "name": "stderr",
     "output_type": "stream",
     "text": [
      "100%|██████████| 100/100 [00:01<00:00, 64.99it/s]\n"
     ]
    }
   ],
   "source": [
    "from sklearn.model_selection import cross_val_score\n",
    "from sklearn.linear_model import Ridge\n",
    "import tqdm\n",
    "\n",
    "# loop through 100 alpha values\n",
    "metrics = {}\n",
    "for i in tqdm.tqdm(range(1,101)):\n",
    "    RidgeReg = Ridge(alpha=10/i)\n",
    "    rsq = cross_val_score(RidgeReg,X_train,y_train,cv=5)\n",
    "    metrics[10/i] = rsq.mean()"
   ]
  },
  {
   "cell_type": "code",
   "execution_count": 139,
   "id": "b13a54e4",
   "metadata": {},
   "outputs": [
    {
     "name": "stdout",
     "output_type": "stream",
     "text": [
      "0.1\n"
     ]
    }
   ],
   "source": [
    "optimal_alpha = max(metrics, key=metrics.get)\n",
    "print(optimal_alpha)"
   ]
  },
  {
   "cell_type": "code",
   "execution_count": 140,
   "id": "d16856a9",
   "metadata": {},
   "outputs": [],
   "source": [
    "RidgeReg = Ridge(alpha=optimal_alpha)"
   ]
  },
  {
   "cell_type": "code",
   "execution_count": 141,
   "id": "e1015a8c",
   "metadata": {},
   "outputs": [
    {
     "data": {
      "text/plain": [
       "Ridge(alpha=0.1)"
      ]
     },
     "execution_count": 141,
     "metadata": {},
     "output_type": "execute_result"
    }
   ],
   "source": [
    "# train model\n",
    "RidgeReg.fit(X_train,y_train)"
   ]
  },
  {
   "cell_type": "code",
   "execution_count": 142,
   "id": "ad5432d1",
   "metadata": {},
   "outputs": [],
   "source": [
    "# make predictions\n",
    "pred = RidgeReg.predict(X_test)\n"
   ]
  },
  {
   "cell_type": "code",
   "execution_count": 143,
   "id": "e127a31d",
   "metadata": {},
   "outputs": [
    {
     "name": "stdout",
     "output_type": "stream",
     "text": [
      "Test Set RSQ value with Ridge: 0.1995627432617363\n",
      "Test Set RMSE with Ridge: 11.720297690092828\n",
      "Actual Dep Var Standard Dev: 13.168164580504147\n"
     ]
    }
   ],
   "source": [
    "# calculate an accuracy metric and an error metric\n",
    "test_set_rsq = RidgeReg.score(X_test,y_test)\n",
    "test_set_rmse = (np.sqrt(mean_squared_error(y_test,pred)))\n",
    "\n",
    "print('Test Set RSQ value with Ridge:',test_set_rsq)\n",
    "print('Test Set RMSE with Ridge:',test_set_rmse)\n",
    "print('Actual Dep Var Standard Dev:',y_test['deathIncrease'].std())"
   ]
  },
  {
   "cell_type": "code",
   "execution_count": 144,
   "id": "82d6be8e",
   "metadata": {},
   "outputs": [
    {
     "data": {
      "text/plain": [
       "<AxesSubplot:xlabel='deathIncrease'>"
      ]
     },
     "execution_count": 144,
     "metadata": {},
     "output_type": "execute_result"
    },
    {
     "data": {
      "image/png": "[encoded data removed]",
      "text/plain": [
       "<Figure size 864x432 with 1 Axes>"
      ]
     },
     "metadata": {
      "needs_background": "light"
     },
     "output_type": "display_data"
    }
   ],
   "source": [
    "sns.regplot(x=y_test['deathIncrease'],y=pred)"
   ]
  },
  {
   "cell_type": "code",
   "execution_count": 145,
   "id": "7de3fc65",
   "metadata": {},
   "outputs": [
    {
     "data": {
      "text/plain": [
       "GridSearchCV(cv=5, estimator=RandomForestRegressor(),\n",
       "             param_grid={'max_depth': [3, 5, 10],\n",
       "                         'n_estimators': [100, 500, 1000]})"
      ]
     },
     "execution_count": 145,
     "metadata": {},
     "output_type": "execute_result"
    }
   ],
   "source": [
    "# grid search with 5-fold cross validation\n",
    "\n",
    "from sklearn.ensemble import RandomForestRegressor\n",
    "from sklearn.model_selection import GridSearchCV\n",
    "\n",
    "reg = RandomForestRegressor()\n",
    "parameters = {'max_depth':[3,5,10],'n_estimators':[100,500,1000],}\n",
    "rf = GridSearchCV(reg, parameters, cv=5)\n",
    "rf.fit(X_train, y_train)"
   ]
  },
  {
   "cell_type": "code",
   "execution_count": 146,
   "id": "edc9c98b",
   "metadata": {},
   "outputs": [
    {
     "name": "stdout",
     "output_type": "stream",
     "text": [
      "RandomForestRegressor(max_depth=10, n_estimators=500)\n",
      "0.770673313842305\n",
      "{'max_depth': 10, 'n_estimators': 500}\n"
     ]
    }
   ],
   "source": [
    "print(rf.best_estimator_)\n",
    "print(rf.best_score_)\n",
    "print(rf.best_params_)"
   ]
  },
  {
   "cell_type": "code",
   "execution_count": 147,
   "id": "9e6f6314",
   "metadata": {},
   "outputs": [],
   "source": [
    "# make predictions on our test dataset\n",
    "pred = rf.predict(X_test)"
   ]
  },
  {
   "cell_type": "code",
   "execution_count": 148,
   "id": "268f8df3",
   "metadata": {},
   "outputs": [
    {
     "name": "stdout",
     "output_type": "stream",
     "text": [
      "Test Set RSQ value with Random Forest: 0.8312263655637544\n",
      "Test Set RMSE with Random Forest: 5.381796806396822\n",
      "Actual Dep Var Standard Dev: 13.168164580504147\n"
     ]
    }
   ],
   "source": [
    "# calculate an accuracy metric and an error metric\n",
    "test_set_rsq = rf.score(X_test,y_test)\n",
    "test_set_rmse = (np.sqrt(mean_squared_error(y_test,pred)))\n",
    "\n",
    "print('Test Set RSQ value with Random Forest:',test_set_rsq)\n",
    "print('Test Set RMSE with Random Forest:',test_set_rmse)\n",
    "print('Actual Dep Var Standard Dev:',y_test['deathIncrease'].std())"
   ]
  },
  {
   "cell_type": "code",
   "execution_count": 149,
   "id": "e9f408fe",
   "metadata": {},
   "outputs": [
    {
     "data": {
      "text/plain": [
       "<AxesSubplot:xlabel='deathIncrease'>"
      ]
     },
     "execution_count": 149,
     "metadata": {},
     "output_type": "execute_result"
    },
    {
     "data": {
      "image/png": "[encoded data removed]",
      "text/plain": [
       "<Figure size 864x432 with 1 Axes>"
      ]
     },
     "metadata": {
      "needs_background": "light"
     },
     "output_type": "display_data"
    }
   ],
   "source": [
    "# how well do our predictions look against the actual values?\n",
    "sns.regplot(x=y_test['deathIncrease'],y=pred)"
   ]
  },
  {
   "cell_type": "code",
   "execution_count": 150,
   "id": "2f5b5119",
   "metadata": {},
   "outputs": [
    {
     "ename": "NameError",
     "evalue": "name 'add_new_model_metrics' is not defined",
     "output_type": "error",
     "traceback": [
      "\u001b[1;31m---------------------------------------------------------------------------\u001b[0m",
      "\u001b[1;31mNameError\u001b[0m                                 Traceback (most recent call last)",
      "\u001b[1;32m~\\AppData\\Local\\Temp/ipykernel_30916/569324865.py\u001b[0m in \u001b[0;36m<module>\u001b[1;34m\u001b[0m\n\u001b[0;32m      1\u001b[0m \u001b[1;31m# store results to view later\u001b[0m\u001b[1;33m\u001b[0m\u001b[1;33m\u001b[0m\u001b[1;33m\u001b[0m\u001b[0m\n\u001b[1;32m----> 2\u001b[1;33m \u001b[0madd_new_model_metrics\u001b[0m\u001b[1;33m(\u001b[0m\u001b[1;34m'Random Forest'\u001b[0m\u001b[1;33m,\u001b[0m\u001b[0mtest_set_rsq\u001b[0m\u001b[1;33m,\u001b[0m\u001b[0mtest_set_rmse\u001b[0m\u001b[1;33m)\u001b[0m\u001b[1;33m\u001b[0m\u001b[1;33m\u001b[0m\u001b[0m\n\u001b[0m",
      "\u001b[1;31mNameError\u001b[0m: name 'add_new_model_metrics' is not defined"
     ]
    }
   ],
   "source": [
    "# store results to view later\n",
    "add_new_model_metrics('Random Forest',test_set_rsq,test_set_rmse)"
   ]
  },
  {
   "cell_type": "code",
   "execution_count": null,
   "id": "530721a0",
   "metadata": {},
   "outputs": [],
   "source": [
    "# big tree visualizations\n",
    "import pydot \n",
    "from sklearn.tree import export_graphviz\n",
    "\n",
    "tree = rf.estimators_[5]\n",
    "export_graphviz(tree, out_file = 'rf_tree.dot', feature_names = X.columns.to_list(), rounded = True, precision = 1)\n",
    "(graph, ) = pydot.graph_from_dot_file('rf_tree.dot')\n",
    "graph.write_png('rf_tree.png')"
   ]
  },
  {
   "cell_type": "code",
   "execution_count": null,
   "id": "4c42cc06",
   "metadata": {},
   "outputs": [],
   "source": [
    "from sklearn.neural_network import MLPRegressor\n",
    "\n",
    "# specify model without any tuning, just best guess on how to specify it\n",
    "# given more time, resources, and data, we might want to spend more time optimizing this model\n",
    "nn = MLPRegressor(\n",
    "    activation = 'relu', # linear functional form since we already accounted for non-linearities\n",
    "    hidden_layer_sizes = (10,100,),\n",
    "    solver = 'lbfgs', # this solver works well on small datasets (a big dataset means 10s or 100s of thousands of observations)\n",
    "    alpha = .001,\n",
    "    random_state = 20,\n",
    "    early_stopping = False\n",
    ")"
   ]
  },
  {
   "cell_type": "code",
   "execution_count": null,
   "id": "8686389e",
   "metadata": {},
   "outputs": [],
   "source": [
    "# train model\n",
    "nn.fit(X_train, y_train)"
   ]
  },
  {
   "cell_type": "code",
   "execution_count": null,
   "id": "05613a77",
   "metadata": {},
   "outputs": [],
   "source": [
    "# calculate an accuracy metric and an error metric\n",
    "test_set_rsq = nn.score(X_test,y_test)\n",
    "test_set_rmse = (np.sqrt(mean_squared_error(y_test,pred)))\n",
    "\n",
    "print('Test Set RSQ value with Neural Network:',test_set_rsq)\n",
    "print('Test Set RMSE with Neural Network:',test_set_rmse)\n",
    "print('Actual Dep Var Standard Dev:',y_test['deathIncrease'].std())"
   ]
  },
  {
   "cell_type": "markdown",
   "id": "d601df7b",
   "metadata": {},
   "source": [
    "#### Lasso\n",
    "\n",
    "Section Goals\n",
    "\n",
    "Find optimal alpha value using 5-fold cross-validation\n",
    "Train a lasso regression using optimal alpha value\n",
    "Make predctions on test dataset\n",
    "Calculate root mean square error and R-squared\n",
    "Create visualizations of predictions and residuals\n",
    "Create coefficient plot"
   ]
  },
  {
   "cell_type": "code",
   "execution_count": null,
   "id": "56da31fa",
   "metadata": {},
   "outputs": [],
   "source": [
    "from sklearn.linear_model import Lasso\n",
    "\n",
    "# loop through 100 alpha values\n",
    "metrics = {}\n",
    "for i in tqdm.tqdm(range(1,101)):\n",
    "    LassoReg = Lasso(alpha=10/i)\n",
    "    rsq = cross_val_score(LassoReg,X_train,y_train,cv=5)\n",
    "    metrics[10/i] = rsq.mean()"
   ]
  },
  {
   "cell_type": "code",
   "execution_count": 118,
   "id": "f371034f",
   "metadata": {},
   "outputs": [
    {
     "name": "stdout",
     "output_type": "stream",
     "text": [
      "0.1\n"
     ]
    }
   ],
   "source": [
    "# access the best-performing alpha value\n",
    "optimal_alpha = max(metrics, key=metrics.get)\n",
    "print(optimal_alpha)"
   ]
  },
  {
   "cell_type": "code",
   "execution_count": null,
   "id": "ca518e76",
   "metadata": {},
   "outputs": [],
   "source": [
    "# specify model with optimal alpha value\n",
    "LassoReg = Lasso(alpha=optimal_alpha)"
   ]
  },
  {
   "cell_type": "code",
   "execution_count": 120,
   "id": "2bbb7d58",
   "metadata": {},
   "outputs": [
    {
     "ename": "NameError",
     "evalue": "name 'LassoReg' is not defined",
     "output_type": "error",
     "traceback": [
      "\u001b[1;31m---------------------------------------------------------------------------\u001b[0m",
      "\u001b[1;31mNameError\u001b[0m                                 Traceback (most recent call last)",
      "\u001b[1;32m~\\AppData\\Local\\Temp/ipykernel_30916/1508559043.py\u001b[0m in \u001b[0;36m<module>\u001b[1;34m\u001b[0m\n\u001b[0;32m      1\u001b[0m \u001b[1;31m# train model\u001b[0m\u001b[1;33m\u001b[0m\u001b[1;33m\u001b[0m\u001b[1;33m\u001b[0m\u001b[0m\n\u001b[1;32m----> 2\u001b[1;33m \u001b[0mLassoReg\u001b[0m\u001b[1;33m.\u001b[0m\u001b[0mfit\u001b[0m\u001b[1;33m(\u001b[0m\u001b[0mX_train\u001b[0m\u001b[1;33m,\u001b[0m\u001b[0my_train\u001b[0m\u001b[1;33m)\u001b[0m\u001b[1;33m\u001b[0m\u001b[1;33m\u001b[0m\u001b[0m\n\u001b[0m",
      "\u001b[1;31mNameError\u001b[0m: name 'LassoReg' is not defined"
     ]
    }
   ],
   "source": [
    "# train model\n",
    "LassoReg.fit(X_train,y_train)"
   ]
  },
  {
   "cell_type": "code",
   "execution_count": null,
   "id": "bb3a8cf9",
   "metadata": {},
   "outputs": [],
   "source": [
    "# make predictions\n",
    "pred = LassoReg.predict(X_test)"
   ]
  },
  {
   "cell_type": "code",
   "execution_count": null,
   "id": "54b32614",
   "metadata": {},
   "outputs": [],
   "source": [
    "# calculate an accuracy metric and an error metric\n",
    "test_set_rsq = LassoReg.score(X_test,y_test)\n",
    "test_set_rmse = (np.sqrt(mean_squared_error(y_test,pred)))\n",
    "\n",
    "print('Test Set RSQ value with Lasso:',test_set_rsq)\n",
    "print('Test Set RMSE with Lasso:',test_set_rmse)\n",
    "print('Actual Dep Var Standard Dev:',y_test['deathIncrease'].std())"
   ]
  },
  {
   "cell_type": "code",
   "execution_count": null,
   "id": "10948f93",
   "metadata": {},
   "outputs": [],
   "source": [
    "# store results to view later\n",
    "add_new_model_metrics('Lasso',test_set_rsq,test_set_rmse)"
   ]
  },
  {
   "cell_type": "code",
   "execution_count": null,
   "id": "f443fccd",
   "metadata": {},
   "outputs": [],
   "source": [
    "# how well do our predictions look against the actual values?\n",
    "sns.regplot(x=y_test['deathIncrease'],y=pred)"
   ]
  },
  {
   "cell_type": "code",
   "execution_count": null,
   "id": "54bbc0ae",
   "metadata": {},
   "outputs": [],
   "source": []
  },
  {
   "cell_type": "code",
   "execution_count": null,
   "id": "a9f3544b",
   "metadata": {},
   "outputs": [],
   "source": []
  }
 ],
 "metadata": {
  "kernelspec": {
   "display_name": "Python 3 (ipykernel)",
   "language": "python",
   "name": "python3"
  },
  "language_info": {
   "codemirror_mode": {
    "name": "ipython",
    "version": 3
   },
   "file_extension": ".py",
   "mimetype": "text/x-python",
   "name": "python",
   "nbconvert_exporter": "python",
   "pygments_lexer": "ipython3",
   "version": "3.8.11"
  }
 },
 "nbformat": 4,
 "nbformat_minor": 5
}
