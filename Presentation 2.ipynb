{
 "cells": [
  {
   "cell_type": "code",
   "execution_count": 166,
   "id": "867f0ede",
   "metadata": {},
   "outputs": [],
   "source": [
    "import pandas as pd\n",
    "from pandas import *\n",
    "import numpy as np\n",
    "import seaborn as sns\n",
    "%matplotlib inline \n",
    "from sklearn.model_selection import train_test_split \n",
    "from sklearn.linear_model import LinearRegression"
   ]
  },
  {
   "cell_type": "code",
   "execution_count": 167,
   "id": "c36ac963",
   "metadata": {},
   "outputs": [
    {
     "data": {
      "text/html": [
       "<div>\n",
       "<style scoped>\n",
       "    .dataframe tbody tr th:only-of-type {\n",
       "        vertical-align: middle;\n",
       "    }\n",
       "\n",
       "    .dataframe tbody tr th {\n",
       "        vertical-align: top;\n",
       "    }\n",
       "\n",
       "    .dataframe thead th {\n",
       "        text-align: right;\n",
       "    }\n",
       "</style>\n",
       "<table border=\"1\" class=\"dataframe\">\n",
       "  <thead>\n",
       "    <tr style=\"text-align: right;\">\n",
       "      <th></th>\n",
       "      <th>NO2_Contn</th>\n",
       "      <th>CO_ Concn</th>\n",
       "      <th>Temp_ Avg</th>\n",
       "      <th>SO2 _Contn</th>\n",
       "      <th>PM2.5_Contn</th>\n",
       "      <th>deathIncrease</th>\n",
       "    </tr>\n",
       "    <tr>\n",
       "      <th>Ozone_ Contn</th>\n",
       "      <th></th>\n",
       "      <th></th>\n",
       "      <th></th>\n",
       "      <th></th>\n",
       "      <th></th>\n",
       "      <th></th>\n",
       "    </tr>\n",
       "  </thead>\n",
       "  <tbody>\n",
       "    <tr>\n",
       "      <th>0.014</th>\n",
       "      <td>17.0</td>\n",
       "      <td>0.1</td>\n",
       "      <td>36</td>\n",
       "      <td>17.0</td>\n",
       "      <td>25.0</td>\n",
       "      <td>39</td>\n",
       "    </tr>\n",
       "    <tr>\n",
       "      <th>0.025</th>\n",
       "      <td>14.0</td>\n",
       "      <td>0.3</td>\n",
       "      <td>80</td>\n",
       "      <td>14.0</td>\n",
       "      <td>13.0</td>\n",
       "      <td>26</td>\n",
       "    </tr>\n",
       "    <tr>\n",
       "      <th>0.049</th>\n",
       "      <td>19.0</td>\n",
       "      <td>0.4</td>\n",
       "      <td>64</td>\n",
       "      <td>19.0</td>\n",
       "      <td>24.0</td>\n",
       "      <td>35</td>\n",
       "    </tr>\n",
       "    <tr>\n",
       "      <th>0.042</th>\n",
       "      <td>18.0</td>\n",
       "      <td>0.1</td>\n",
       "      <td>80</td>\n",
       "      <td>18.0</td>\n",
       "      <td>21.0</td>\n",
       "      <td>26</td>\n",
       "    </tr>\n",
       "    <tr>\n",
       "      <th>0.027</th>\n",
       "      <td>34.0</td>\n",
       "      <td>0.3</td>\n",
       "      <td>76</td>\n",
       "      <td>34.0</td>\n",
       "      <td>37.0</td>\n",
       "      <td>31</td>\n",
       "    </tr>\n",
       "    <tr>\n",
       "      <th>...</th>\n",
       "      <td>...</td>\n",
       "      <td>...</td>\n",
       "      <td>...</td>\n",
       "      <td>...</td>\n",
       "      <td>...</td>\n",
       "      <td>...</td>\n",
       "    </tr>\n",
       "    <tr>\n",
       "      <th>0.023</th>\n",
       "      <td>31.2</td>\n",
       "      <td>0.4</td>\n",
       "      <td>41</td>\n",
       "      <td>31.2</td>\n",
       "      <td>14.6</td>\n",
       "      <td>24</td>\n",
       "    </tr>\n",
       "    <tr>\n",
       "      <th>0.019</th>\n",
       "      <td>34.4</td>\n",
       "      <td>0.4</td>\n",
       "      <td>48</td>\n",
       "      <td>34.4</td>\n",
       "      <td>14.5</td>\n",
       "      <td>24</td>\n",
       "    </tr>\n",
       "    <tr>\n",
       "      <th>0.037</th>\n",
       "      <td>54.0</td>\n",
       "      <td>0.3</td>\n",
       "      <td>76</td>\n",
       "      <td>54.0</td>\n",
       "      <td>47.0</td>\n",
       "      <td>62</td>\n",
       "    </tr>\n",
       "    <tr>\n",
       "      <th>0.015</th>\n",
       "      <td>23.0</td>\n",
       "      <td>1.3</td>\n",
       "      <td>37</td>\n",
       "      <td>23.0</td>\n",
       "      <td>16.9</td>\n",
       "      <td>29</td>\n",
       "    </tr>\n",
       "    <tr>\n",
       "      <th>0.010</th>\n",
       "      <td>24.0</td>\n",
       "      <td>1.1</td>\n",
       "      <td>44</td>\n",
       "      <td>24.0</td>\n",
       "      <td>17.2</td>\n",
       "      <td>28</td>\n",
       "    </tr>\n",
       "  </tbody>\n",
       "</table>\n",
       "<p>387 rows × 6 columns</p>\n",
       "</div>"
      ],
      "text/plain": [
       "                NO2_Contn   CO_ Concn  Temp_ Avg   SO2 _Contn   PM2.5_Contn  \\\n",
       " Ozone_ Contn                                                                 \n",
       "0.014                17.0         0.1          36        17.0          25.0   \n",
       "0.025                14.0         0.3          80        14.0          13.0   \n",
       "0.049                19.0         0.4          64        19.0          24.0   \n",
       "0.042                18.0         0.1          80        18.0          21.0   \n",
       "0.027                34.0         0.3          76        34.0          37.0   \n",
       "...                   ...         ...         ...         ...           ...   \n",
       "0.023                31.2         0.4          41        31.2          14.6   \n",
       "0.019                34.4         0.4          48        34.4          14.5   \n",
       "0.037                54.0         0.3          76        54.0          47.0   \n",
       "0.015                23.0         1.3          37        23.0          16.9   \n",
       "0.010                24.0         1.1          44        24.0          17.2   \n",
       "\n",
       "               deathIncrease  \n",
       " Ozone_ Contn                 \n",
       "0.014                     39  \n",
       "0.025                     26  \n",
       "0.049                     35  \n",
       "0.042                     26  \n",
       "0.027                     31  \n",
       "...                      ...  \n",
       "0.023                     24  \n",
       "0.019                     24  \n",
       "0.037                     62  \n",
       "0.015                     29  \n",
       "0.010                     28  \n",
       "\n",
       "[387 rows x 6 columns]"
      ]
     },
     "execution_count": 167,
     "metadata": {},
     "output_type": "execute_result"
    }
   ],
   "source": [
    "data =pd.read_csv('DMV10042.csv',index_col=0)\n",
    "data"
   ]
  },
  {
   "cell_type": "markdown",
   "id": "869a13cd",
   "metadata": {},
   "source": [
    "## Evaluation of the Regression Analysis "
   ]
  },
  {
   "cell_type": "code",
   "execution_count": 170,
   "id": "181ab6da",
   "metadata": {},
   "outputs": [],
   "source": [
    "data =data.reindex(columns=[' NO2_Contn','CO_ Concn','Temp_ Avg ', 'SO2 _Contn', ' PM2.5_Contn',\n",
    "       'deathIncrease'])"
   ]
  },
  {
   "cell_type": "code",
   "execution_count": 171,
   "id": "4dcc5d57",
   "metadata": {},
   "outputs": [
    {
     "name": "stderr",
     "output_type": "stream",
     "text": [
      "C:\\Users\\Tamrat\\Anaconda3\\lib\\site-packages\\seaborn\\axisgrid.py:2076: UserWarning: The `size` parameter has been renamed to `height`; please update your code.\n",
      "  warnings.warn(msg, UserWarning)\n"
     ]
    },
    {
     "data": {
      "text/plain": [
       "<seaborn.axisgrid.PairGrid at 0x1d5b9e920d0>"
      ]
     },
     "execution_count": 171,
     "metadata": {},
     "output_type": "execute_result"
    },
    {
     "data": {
      "image/png": "[encoded data removed]",
      "text/plain": [
       "<Figure size 806.4x504 with 4 Axes>"
      ]
     },
     "metadata": {
      "needs_background": "light"
     },
     "output_type": "display_data"
    }
   ],
   "source": [
    "sns.pairplot(data,x_vars=[' NO2_Contn','Temp_ Avg ', 'SO2 _Contn', ' PM2.5_Contn'],y_vars ='deathIncrease',size=7,aspect=0.4,kind='reg')"
   ]
  },
  {
   "cell_type": "code",
   "execution_count": 172,
   "id": "890b20b6",
   "metadata": {},
   "outputs": [],
   "source": [
    "feature_col =['NO2_Contn','Temp_ Avg ', 'SO2 _Contn', ' PM2.5_Contn']"
   ]
  },
  {
   "cell_type": "code",
   "execution_count": 173,
   "id": "d1cb01f3",
   "metadata": {},
   "outputs": [],
   "source": [
    "train,test=train_test_split(data,test_size=0.2,random_state=42)"
   ]
  },
  {
   "cell_type": "code",
   "execution_count": 174,
   "id": "8ea4dacc",
   "metadata": {},
   "outputs": [
    {
     "data": {
      "text/plain": [
       "309"
      ]
     },
     "execution_count": 174,
     "metadata": {},
     "output_type": "execute_result"
    }
   ],
   "source": [
    "len(train)"
   ]
  },
  {
   "cell_type": "code",
   "execution_count": 175,
   "id": "7059578f",
   "metadata": {},
   "outputs": [
    {
     "data": {
      "text/plain": [
       "78"
      ]
     },
     "execution_count": 175,
     "metadata": {},
     "output_type": "execute_result"
    }
   ],
   "source": [
    "len(test)"
   ]
  },
  {
   "cell_type": "code",
   "execution_count": 176,
   "id": "c4758989",
   "metadata": {},
   "outputs": [],
   "source": [
    "y=data['deathIncrease']"
   ]
  },
  {
   "cell_type": "code",
   "execution_count": 177,
   "id": "96cfce0a",
   "metadata": {
    "scrolled": true
   },
   "outputs": [
    {
     "data": {
      "text/plain": [
       " Ozone_ Contn\n",
       "0.014    39\n",
       "0.025    26\n",
       "0.049    35\n",
       "0.042    26\n",
       "0.027    31\n",
       "         ..\n",
       "0.023    24\n",
       "0.019    24\n",
       "0.037    62\n",
       "0.015    29\n",
       "0.010    28\n",
       "Name: deathIncrease, Length: 387, dtype: int64"
      ]
     },
     "execution_count": 177,
     "metadata": {},
     "output_type": "execute_result"
    }
   ],
   "source": [
    "y"
   ]
  },
  {
   "cell_type": "code",
   "execution_count": 178,
   "id": "2322fc7f",
   "metadata": {},
   "outputs": [],
   "source": [
    "x=data[[' NO2_Contn','Temp_ Avg ', 'SO2 _Contn', ' PM2.5_Contn']] "
   ]
  },
  {
   "cell_type": "code",
   "execution_count": 179,
   "id": "ea70a79f",
   "metadata": {},
   "outputs": [
    {
     "data": {
      "text/html": [
       "<div>\n",
       "<style scoped>\n",
       "    .dataframe tbody tr th:only-of-type {\n",
       "        vertical-align: middle;\n",
       "    }\n",
       "\n",
       "    .dataframe tbody tr th {\n",
       "        vertical-align: top;\n",
       "    }\n",
       "\n",
       "    .dataframe thead th {\n",
       "        text-align: right;\n",
       "    }\n",
       "</style>\n",
       "<table border=\"1\" class=\"dataframe\">\n",
       "  <thead>\n",
       "    <tr style=\"text-align: right;\">\n",
       "      <th></th>\n",
       "      <th>NO2_Contn</th>\n",
       "      <th>Temp_ Avg</th>\n",
       "      <th>SO2 _Contn</th>\n",
       "      <th>PM2.5_Contn</th>\n",
       "    </tr>\n",
       "    <tr>\n",
       "      <th>Ozone_ Contn</th>\n",
       "      <th></th>\n",
       "      <th></th>\n",
       "      <th></th>\n",
       "      <th></th>\n",
       "    </tr>\n",
       "  </thead>\n",
       "  <tbody>\n",
       "    <tr>\n",
       "      <th>0.014</th>\n",
       "      <td>17.0</td>\n",
       "      <td>36</td>\n",
       "      <td>17.0</td>\n",
       "      <td>25.0</td>\n",
       "    </tr>\n",
       "    <tr>\n",
       "      <th>0.025</th>\n",
       "      <td>14.0</td>\n",
       "      <td>80</td>\n",
       "      <td>14.0</td>\n",
       "      <td>13.0</td>\n",
       "    </tr>\n",
       "    <tr>\n",
       "      <th>0.049</th>\n",
       "      <td>19.0</td>\n",
       "      <td>64</td>\n",
       "      <td>19.0</td>\n",
       "      <td>24.0</td>\n",
       "    </tr>\n",
       "    <tr>\n",
       "      <th>0.042</th>\n",
       "      <td>18.0</td>\n",
       "      <td>80</td>\n",
       "      <td>18.0</td>\n",
       "      <td>21.0</td>\n",
       "    </tr>\n",
       "    <tr>\n",
       "      <th>0.027</th>\n",
       "      <td>34.0</td>\n",
       "      <td>76</td>\n",
       "      <td>34.0</td>\n",
       "      <td>37.0</td>\n",
       "    </tr>\n",
       "    <tr>\n",
       "      <th>...</th>\n",
       "      <td>...</td>\n",
       "      <td>...</td>\n",
       "      <td>...</td>\n",
       "      <td>...</td>\n",
       "    </tr>\n",
       "    <tr>\n",
       "      <th>0.023</th>\n",
       "      <td>31.2</td>\n",
       "      <td>41</td>\n",
       "      <td>31.2</td>\n",
       "      <td>14.6</td>\n",
       "    </tr>\n",
       "    <tr>\n",
       "      <th>0.019</th>\n",
       "      <td>34.4</td>\n",
       "      <td>48</td>\n",
       "      <td>34.4</td>\n",
       "      <td>14.5</td>\n",
       "    </tr>\n",
       "    <tr>\n",
       "      <th>0.037</th>\n",
       "      <td>54.0</td>\n",
       "      <td>76</td>\n",
       "      <td>54.0</td>\n",
       "      <td>47.0</td>\n",
       "    </tr>\n",
       "    <tr>\n",
       "      <th>0.015</th>\n",
       "      <td>23.0</td>\n",
       "      <td>37</td>\n",
       "      <td>23.0</td>\n",
       "      <td>16.9</td>\n",
       "    </tr>\n",
       "    <tr>\n",
       "      <th>0.010</th>\n",
       "      <td>24.0</td>\n",
       "      <td>44</td>\n",
       "      <td>24.0</td>\n",
       "      <td>17.2</td>\n",
       "    </tr>\n",
       "  </tbody>\n",
       "</table>\n",
       "<p>387 rows × 4 columns</p>\n",
       "</div>"
      ],
      "text/plain": [
       "                NO2_Contn  Temp_ Avg   SO2 _Contn   PM2.5_Contn\n",
       " Ozone_ Contn                                                  \n",
       "0.014                17.0          36        17.0          25.0\n",
       "0.025                14.0          80        14.0          13.0\n",
       "0.049                19.0          64        19.0          24.0\n",
       "0.042                18.0          80        18.0          21.0\n",
       "0.027                34.0          76        34.0          37.0\n",
       "...                   ...         ...         ...           ...\n",
       "0.023                31.2          41        31.2          14.6\n",
       "0.019                34.4          48        34.4          14.5\n",
       "0.037                54.0          76        54.0          47.0\n",
       "0.015                23.0          37        23.0          16.9\n",
       "0.010                24.0          44        24.0          17.2\n",
       "\n",
       "[387 rows x 4 columns]"
      ]
     },
     "execution_count": 179,
     "metadata": {},
     "output_type": "execute_result"
    }
   ],
   "source": [
    "x"
   ]
  },
  {
   "cell_type": "code",
   "execution_count": 180,
   "id": "de74569f",
   "metadata": {},
   "outputs": [],
   "source": [
    "x_train,x_test,y_train,y_test=train_test_split(x,y,test_size=0.50,random_state=42)"
   ]
  },
  {
   "cell_type": "code",
   "execution_count": 181,
   "id": "8ae38933",
   "metadata": {},
   "outputs": [
    {
     "data": {
      "text/plain": [
       "LinearRegression()"
      ]
     },
     "execution_count": 181,
     "metadata": {},
     "output_type": "execute_result"
    }
   ],
   "source": [
    "reg =LinearRegression( )\n",
    "reg.fit(data[['Temp_ Avg ','SO2 _Contn', ' PM2.5_Contn']],data.deathIncrease)"
   ]
  },
  {
   "cell_type": "code",
   "execution_count": 182,
   "id": "96a486f5",
   "metadata": {},
   "outputs": [
    {
     "data": {
      "text/plain": [
       "LinearRegression()"
      ]
     },
     "execution_count": 182,
     "metadata": {},
     "output_type": "execute_result"
    }
   ],
   "source": [
    "y_pred = reg.fit(x_train,y_train)\n",
    "y_pred"
   ]
  },
  {
   "cell_type": "code",
   "execution_count": 183,
   "id": "cee12510",
   "metadata": {},
   "outputs": [
    {
     "data": {
      "text/plain": [
       "array([48.33674434, 38.89213767, 33.84071817, 36.40488043, 33.32403188,\n",
       "       35.43646314, 35.35982604, 35.65718068, 27.35366621, 45.42448836,\n",
       "       31.26734636, 35.64965545, 39.00558138, 32.22323177, 36.4597919 ,\n",
       "       57.24068842, 57.42741638, 42.62372384, 31.06658444, 33.32403188,\n",
       "       48.33674434, 49.59360514, 35.33716142, 35.13733523, 52.98194108,\n",
       "       36.67845245, 35.66080143, 27.35366621, 26.20920535, 36.82151967,\n",
       "       34.77466846, 37.62413089, 31.88601611, 29.78908492, 57.24068842,\n",
       "       52.98194108, 51.84443911, 31.06658444, 46.10774075, 31.26734636,\n",
       "       36.0546713 , 51.50910147, 30.9032757 , 32.22323177, 40.20289672,\n",
       "       36.99504465, 35.63256382, 36.4239243 , 33.00028711, 28.61331351,\n",
       "       33.47146517, 38.21539728, 33.47146517, 34.77466846, 27.26634472,\n",
       "       37.62413089, 31.26734636, 45.42448836, 29.78908492, 51.13054997,\n",
       "       26.09311043, 29.86051841, 29.41874175, 36.22141638, 58.39119969,\n",
       "       51.26337969, 28.78185038, 35.33716142, 35.33000885, 31.66874146,\n",
       "       27.53576019, 30.6480055 , 32.62918662, 28.87761757, 36.40488043,\n",
       "       42.45557817, 34.81685438, 35.66080143, 28.78185038, 35.54467599,\n",
       "       35.66080143, 52.98194108, 35.33000885, 29.04251516, 40.64915948,\n",
       "       27.50139794, 36.1898101 , 35.63256382, 33.02779523, 35.54467599,\n",
       "       40.64915948, 34.76066176, 40.04495802, 53.83657252, 28.93512457,\n",
       "       40.04495802, 30.2678002 , 27.04899584, 35.7592689 , 32.62918662,\n",
       "       35.64965545, 35.35982604, 35.63256382, 56.30408692, 38.21539728,\n",
       "       28.19196333, 53.35585859, 30.70811731, 33.32403188, 35.29572082,\n",
       "       35.53214411, 28.19196333, 39.7630265 , 42.37746625, 35.29572082,\n",
       "       30.70811731, 38.21539728, 36.82151967, 35.43461565, 30.95428598,\n",
       "       40.64915948, 28.24213008, 27.61685556, 36.72768619, 40.20289672,\n",
       "       29.78908492, 51.13054997, 33.02779523, 36.0546713 , 29.42002289,\n",
       "       32.62918662, 35.9069701 , 28.24213008, 28.93512457, 36.0546713 ,\n",
       "       45.72082977, 38.89213767, 35.7592689 , 24.94175564, 49.59360514,\n",
       "       60.92490417, 27.61685556, 45.74544664, 45.72082977, 26.55665851,\n",
       "       35.86052286, 27.04899584, 51.13054997, 27.48931295, 36.4597919 ,\n",
       "       27.50139794, 30.27475909, 42.37746625, 46.10774075, 27.19948354,\n",
       "       51.50910147, 53.35585859, 34.81685438, 26.09311043, 28.87761757,\n",
       "       34.81685438, 56.30408692, 46.10774075, 24.94175564, 34.88690525,\n",
       "       35.54329009, 33.87704737, 29.90866525, 26.86338587, 28.41083611,\n",
       "       38.89213767, 27.91894566, 36.67845245, 29.32434791, 30.27475909,\n",
       "       25.12792653, 33.84071817, 35.43461565, 39.00558138, 25.12792653,\n",
       "       29.86051841, 35.29572082, 34.88690525, 28.23990394, 30.27475909,\n",
       "       40.04495802, 28.41083611, 30.97175027, 29.42002289, 36.1898101 ,\n",
       "       42.1355589 , 34.73231939, 27.50139794, 60.92490417])"
      ]
     },
     "execution_count": 183,
     "metadata": {},
     "output_type": "execute_result"
    }
   ],
   "source": [
    "y_pred =reg.predict(x_test)\n",
    "y_pred "
   ]
  },
  {
   "cell_type": "code",
   "execution_count": 184,
   "id": "b1de8712",
   "metadata": {},
   "outputs": [
    {
     "data": {
      "text/plain": [
       "[<matplotlib.lines.Line2D at 0x1d5be9ce7f0>]"
      ]
     },
     "execution_count": 184,
     "metadata": {},
     "output_type": "execute_result"
    },
    {
     "data": {
      "image/png": "[encoded data removed]",
      "text/plain": [
       "<Figure size 432x288 with 1 Axes>"
      ]
     },
     "metadata": {
      "needs_background": "light"
     },
     "output_type": "display_data"
    }
   ],
   "source": [
    "plt.plot(y_pred)"
   ]
  },
  {
   "cell_type": "code",
   "execution_count": 185,
   "id": "ff2b0f55",
   "metadata": {},
   "outputs": [],
   "source": [
    "# 3 Best metrics to evaluate Regression Model?\n",
    "# MSE ,R Square, Adjusted R Square, RMSE, MAE"
   ]
  },
  {
   "cell_type": "code",
   "execution_count": 186,
   "id": "71203459",
   "metadata": {},
   "outputs": [
    {
     "data": {
      "text/plain": [
       "array([ 0.05062698, -0.02461687,  0.05062698,  0.80261122])"
      ]
     },
     "execution_count": 186,
     "metadata": {},
     "output_type": "execute_result"
    }
   ],
   "source": [
    "reg.coef_ "
   ]
  },
  {
   "cell_type": "code",
   "execution_count": 187,
   "id": "ff9dd53d",
   "metadata": {},
   "outputs": [
    {
     "data": {
      "text/plain": [
       "15.921129040791705"
      ]
     },
     "execution_count": 187,
     "metadata": {},
     "output_type": "execute_result"
    }
   ],
   "source": [
    "reg.intercept_"
   ]
  },
  {
   "cell_type": "code",
   "execution_count": 188,
   "id": "79a50346",
   "metadata": {},
   "outputs": [],
   "source": [
    "# MSE - squared distance between actual and predicted values"
   ]
  },
  {
   "cell_type": "code",
   "execution_count": 189,
   "id": "af191b82",
   "metadata": {},
   "outputs": [],
   "source": [
    "from sklearn.metrics import mean_squared_error "
   ]
  },
  {
   "cell_type": "code",
   "execution_count": 190,
   "id": "d25ad6a3",
   "metadata": {},
   "outputs": [
    {
     "data": {
      "text/plain": [
       "154.91883585129378"
      ]
     },
     "execution_count": 190,
     "metadata": {},
     "output_type": "execute_result"
    }
   ],
   "source": [
    "mean_squared_error(y_test,y_pred)"
   ]
  },
  {
   "cell_type": "code",
   "execution_count": 191,
   "id": "2b28de7f",
   "metadata": {},
   "outputs": [
    {
     "data": {
      "text/plain": [
       "12.446639540506256"
      ]
     },
     "execution_count": 191,
     "metadata": {},
     "output_type": "execute_result"
    }
   ],
   "source": [
    "mean_squared_error(y_test,y_pred,squared=False)"
   ]
  },
  {
   "cell_type": "code",
   "execution_count": 192,
   "id": "078f577d",
   "metadata": {},
   "outputs": [],
   "source": [
    "# R Square"
   ]
  },
  {
   "cell_type": "code",
   "execution_count": 193,
   "id": "b4020242",
   "metadata": {},
   "outputs": [
    {
     "data": {
      "text/plain": [
       "0.23226365481742872"
      ]
     },
     "execution_count": 193,
     "metadata": {},
     "output_type": "execute_result"
    }
   ],
   "source": [
    "from sklearn.metrics import r2_score\n",
    "r2_score(y_test,y_pred)"
   ]
  },
  {
   "cell_type": "code",
   "execution_count": 194,
   "id": "0dfcf534",
   "metadata": {},
   "outputs": [],
   "source": [
    "# Adjusted R Square\n",
    "\n",
    "# Adjusted R2 = 1 – [ (1-R2)* (n-1)/ (n-k-1)] \n",
    "# Because R2 always increases as you add more predictors to a model, \n",
    "# adjusted R2 can serve as a metric that tells you how useful\n",
    "# a model is, adjusted for the number of predictors in a model."
   ]
  },
  {
   "cell_type": "code",
   "execution_count": 195,
   "id": "e62c4a9a",
   "metadata": {},
   "outputs": [
    {
     "data": {
      "text/plain": [
       "1.0031186195540438"
      ]
     },
     "execution_count": 195,
     "metadata": {},
     "output_type": "execute_result"
    }
   ],
   "source": [
    "\n",
    "r2 = r2_score(y_test,y_pred)\n",
    "\n",
    "n= len(y_test)\n",
    "k= len(x_test.columns)\n",
    "\n",
    "adj_r2= 1-(((1-r2)*(r2-1))/(n-k-1)) \n",
    "adj_r2       "
   ]
  },
  {
   "cell_type": "code",
   "execution_count": 196,
   "id": "6f0fd914",
   "metadata": {},
   "outputs": [],
   "source": [
    "# RMSE"
   ]
  },
  {
   "cell_type": "code",
   "execution_count": 197,
   "id": "2618c183",
   "metadata": {},
   "outputs": [
    {
     "name": "stdout",
     "output_type": "stream",
     "text": [
      "RMSE 12.446639540506256\n"
     ]
    }
   ],
   "source": [
    "print(\"RMSE\",np.sqrt(mean_squared_error(y_test,y_pred)))"
   ]
  },
  {
   "cell_type": "code",
   "execution_count": 198,
   "id": "519323de",
   "metadata": {},
   "outputs": [
    {
     "name": "stdout",
     "output_type": "stream",
     "text": [
      "RMSE 2.5214506700515216\n"
     ]
    }
   ],
   "source": [
    "print(\"RMSE\",np.log(np.sqrt(mean_squared_error(y_test,y_pred)))) # Taking the log of the RMSE metric slows down the scale of error"
   ]
  },
  {
   "cell_type": "code",
   "execution_count": 199,
   "id": "8ddb3958",
   "metadata": {},
   "outputs": [],
   "source": [
    "# MAE = which calculates the absolute difference between actual and predicted values."
   ]
  },
  {
   "cell_type": "code",
   "execution_count": 200,
   "id": "36c37612",
   "metadata": {},
   "outputs": [
    {
     "name": "stdout",
     "output_type": "stream",
     "text": [
      "MAE 8.421614401138214\n"
     ]
    }
   ],
   "source": [
    "from sklearn.metrics import mean_absolute_error\n",
    "print(\"MAE\",mean_absolute_error(y_test,y_pred))"
   ]
  },
  {
   "cell_type": "code",
   "execution_count": 201,
   "id": "6c04186f",
   "metadata": {},
   "outputs": [],
   "source": [
    "from sklearn import preprocessing\n",
    "from sklearn.model_selection import KFold\n",
    "from sklearn.linear_model import LinearRegression\n",
    "import matplotlib.pyplot as plt\n",
    "%matplotlib inline"
   ]
  },
  {
   "cell_type": "code",
   "execution_count": 202,
   "id": "74ec86bd",
   "metadata": {},
   "outputs": [
    {
     "data": {
      "text/html": [
       "<div>\n",
       "<style scoped>\n",
       "    .dataframe tbody tr th:only-of-type {\n",
       "        vertical-align: middle;\n",
       "    }\n",
       "\n",
       "    .dataframe tbody tr th {\n",
       "        vertical-align: top;\n",
       "    }\n",
       "\n",
       "    .dataframe thead th {\n",
       "        text-align: right;\n",
       "    }\n",
       "</style>\n",
       "<table border=\"1\" class=\"dataframe\">\n",
       "  <thead>\n",
       "    <tr style=\"text-align: right;\">\n",
       "      <th></th>\n",
       "      <th>Coeff</th>\n",
       "    </tr>\n",
       "  </thead>\n",
       "  <tbody>\n",
       "    <tr>\n",
       "      <th>NO2_Contn</th>\n",
       "      <td>0.050627</td>\n",
       "    </tr>\n",
       "    <tr>\n",
       "      <th>Temp_ Avg</th>\n",
       "      <td>-0.024617</td>\n",
       "    </tr>\n",
       "    <tr>\n",
       "      <th>SO2 _Contn</th>\n",
       "      <td>0.050627</td>\n",
       "    </tr>\n",
       "    <tr>\n",
       "      <th>PM2.5_Contn</th>\n",
       "      <td>0.802611</td>\n",
       "    </tr>\n",
       "  </tbody>\n",
       "</table>\n",
       "</div>"
      ],
      "text/plain": [
       "                 Coeff\n",
       " NO2_Contn    0.050627\n",
       "Temp_ Avg    -0.024617\n",
       "SO2 _Contn    0.050627\n",
       " PM2.5_Contn  0.802611"
      ]
     },
     "execution_count": 202,
     "metadata": {},
     "output_type": "execute_result"
    }
   ],
   "source": [
    "pd.DataFrame(reg.coef_,x.columns,columns=['Coeff'])"
   ]
  },
  {
   "cell_type": "code",
   "execution_count": 203,
   "id": "107ea7b1",
   "metadata": {},
   "outputs": [
    {
     "data": {
      "text/plain": [
       "LinearRegression()"
      ]
     },
     "execution_count": 203,
     "metadata": {},
     "output_type": "execute_result"
    }
   ],
   "source": [
    "reg.fit(data[['Temp_ Avg ','SO2 _Contn', ' PM2.5_Contn']],data.deathIncrease) "
   ]
  },
  {
   "cell_type": "code",
   "execution_count": 218,
   "id": "93266b58",
   "metadata": {},
   "outputs": [],
   "source": [
    "#B1 = Correlation * (Std. Dev. of y_train / Std. Dev. of x_train)\n",
    "# B0 = Mean(y_train) – B1 * Mean(x_train)"
   ]
  },
  {
   "cell_type": "code",
   "execution_count": 212,
   "id": "18a19760",
   "metadata": {},
   "outputs": [
    {
     "data": {
      "text/plain": [
       "array([0.01943212, 0.08241618, 0.74439551])"
      ]
     },
     "execution_count": 212,
     "metadata": {},
     "output_type": "execute_result"
    }
   ],
   "source": [
    "reg.coef_"
   ]
  },
  {
   "cell_type": "code",
   "execution_count": 217,
   "id": "44e0ce8f",
   "metadata": {
    "scrolled": true
   },
   "outputs": [
    {
     "data": {
      "image/png": "[encoded data removed]",
      "text/plain": [
       "<Figure size 700x350 with 1 Axes>"
      ]
     },
     "metadata": {},
     "output_type": "display_data"
    }
   ],
   "source": [
    "import matplotlib.pyplot as plt\n",
    "\n",
    "plt.style.use('default')\n",
    "plt.style.use('ggplot')\n",
    "\n",
    "fig, ax = plt.subplots(figsize=(7, 3.5))\n",
    "\n",
    "ax.plot(y_pred, color='k', label='Regression model')\n",
    "#ax.scatter(x, y, edgecolor='k', facecolor='grey', alpha=0.7, label='Sample data')\n",
    "#ax.set_ylabel('deathIncrease'),fontsize=14)\n",
    "#ax.set_xlabel('PM2.5_Contn'), fontsize=14)\n",
    "#ax.legend(facecolor='white', fontsize=11)\n",
    "#ax.text(0.55, 0.15, '$y = %.2f x_1 - %.2f $' % (model.coef_[0], abs(model.intercept_)), fontsize=17, transform=ax.transAxes)\n",
    "\n",
    "fig.tight_layout()"
   ]
  },
  {
   "cell_type": "code",
   "execution_count": null,
   "id": "bd405ef3",
   "metadata": {},
   "outputs": [],
   "source": []
  }
 ],
 "metadata": {
  "kernelspec": {
   "display_name": "Python 3 (ipykernel)",
   "language": "python",
   "name": "python3"
  },
  "language_info": {
   "codemirror_mode": {
    "name": "ipython",
    "version": 3
   },
   "file_extension": ".py",
   "mimetype": "text/x-python",
   "name": "python",
   "nbconvert_exporter": "python",
   "pygments_lexer": "ipython3",
   "version": "3.8.11"
  }
 },
 "nbformat": 4,
 "nbformat_minor": 5
}
